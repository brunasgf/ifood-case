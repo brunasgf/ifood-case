{
  "nbformat": 4,
  "nbformat_minor": 0,
  "metadata": {
    "colab": {
      "provenance": []
    },
    "kernelspec": {
      "name": "python3",
      "display_name": "Python 3"
    },
    "language_info": {
      "name": "python"
    }
  },
  "cells": [
    {
      "cell_type": "code",
      "execution_count": null,
      "metadata": {
        "id": "umfctnBTHaqm"
      },
      "outputs": [],
      "source": [
        "from google.colab import drive\n",
        "drive.mount('/content/drive')"
      ]
    },
    {
      "cell_type": "code",
      "source": [
        "import os\n",
        "import matplotlib.pyplot as plt\n",
        "from pyspark.sql import SparkSession\n",
        "from pyspark.sql.functions import month, hour, avg, col\n",
        "\n",
        "\n",
        "class TaxiAnalytics:\n",
        "    \"\"\"\n",
        "    Classe responsável por responder consultas analíticas sobre os dados da Silver Layer.\n",
        "    Gera também gráficos dos resultados.\n",
        "    \"\"\"\n",
        "\n",
        "    def __init__(self, spark: SparkSession, silver_base: str):\n",
        "        \"\"\"\n",
        "        Inicializa a classe com a SparkSession e o caminho da silver_layer.\n",
        "\n",
        "        :param spark: Instância de SparkSession.\n",
        "        :param silver_base: Caminho base da silver_layer.\n",
        "        \"\"\"\n",
        "        self.spark = spark\n",
        "        self.silver_base = silver_base.rstrip(\"/\")\n",
        "\n",
        "    def average_total_amount_by_month(self, show_plot=True):\n",
        "        \"\"\"\n",
        "        Calcula a média do valor total recebido por mês (apenas yellow táxis).\n",
        "\n",
        "        :param show_plot: Se True, exibe um gráfico de barras.\n",
        "        :return: DataFrame do resultado.\n",
        "        \"\"\"\n",
        "        yellow_df = self.spark.read.parquet(f\"{self.silver_base}/yellow\")\n",
        "        result = (\n",
        "            yellow_df\n",
        "            .withColumn(\"month\", month(col(\"tpep_pickup_datetime\")))\n",
        "            .groupBy(\"month\")\n",
        "            .agg(avg(\"total_amount\").alias(\"avg_total_amount\"))\n",
        "            .orderBy(\"month\")\n",
        "        )\n",
        "\n",
        "        if show_plot:\n",
        "            data = result.toPandas()\n",
        "            plt.figure(figsize=(8, 5))\n",
        "            plt.bar(data[\"month\"], data[\"avg_total_amount\"], color=\"gold\")\n",
        "            plt.xlabel(\"Mês\")\n",
        "            plt.ylabel(\"Média de total_amount (USD)\")\n",
        "            plt.title(\"🟨 Média de total_amount por mês (Yellow Táxis)\")\n",
        "            plt.xticks(data[\"month\"])\n",
        "            plt.grid(axis='y', linestyle=\"--\", alpha=0.5)\n",
        "            plt.tight_layout()\n",
        "            plt.show()\n",
        "\n",
        "        return result\n",
        "\n",
        "    def average_passenger_count_may_by_hour(self, show_plot=True):\n",
        "        \"\"\"\n",
        "        Calcula a média de passageiros por hora do dia, somente para o mês de maio.\n",
        "\n",
        "        :param show_plot: Se True, exibe um gráfico de linha.\n",
        "        :return: DataFrame do resultado.\n",
        "        \"\"\"\n",
        "        all_df = self.spark.read.parquet(self.silver_base)\n",
        "        result = (\n",
        "            all_df\n",
        "            .withColumn(\"month\", month(col(\"tpep_pickup_datetime\")))\n",
        "            .filter(col(\"month\") == 5)\n",
        "            .withColumn(\"hour\", hour(col(\"tpep_pickup_datetime\")))\n",
        "            .groupBy(\"hour\")\n",
        "            .agg(avg(\"passenger_count\").alias(\"avg_passenger_count\"))\n",
        "            .orderBy(\"hour\")\n",
        "        )\n",
        "\n",
        "        if show_plot:\n",
        "            data = result.toPandas()\n",
        "            plt.figure(figsize=(9, 5))\n",
        "            plt.plot(data[\"hour\"], data[\"avg_passenger_count\"], marker='o', linestyle='-')\n",
        "            plt.xlabel(\"Hora do dia\")\n",
        "            plt.ylabel(\"Média de passageiros\")\n",
        "            plt.title(\"Média de passageiros por hora (Maio - Yellow + Green)\")\n",
        "            plt.xticks(range(0, 24))\n",
        "            plt.grid(True, linestyle=\"--\", alpha=0.5)\n",
        "            plt.tight_layout()\n",
        "            plt.show()\n",
        "\n",
        "        return result\n"
      ],
      "metadata": {
        "id": "qG8XaHKGHySL"
      },
      "execution_count": null,
      "outputs": []
    },
    {
      "cell_type": "code",
      "source": [
        "spark = SparkSession.builder \\\n",
        "    .appName(\"TaxiAnalytics\") \\\n",
        "    .getOrCreate()\n",
        "\n",
        "silver_base = \"/content/drive/MyDrive/ifood/teste_2/silver_layer\"\n",
        "\n",
        "analytics = TaxiAnalytics(spark, silver_base)\n",
        "\n",
        "analytics.average_total_amount_by_month()\n",
        "analytics.average_passenger_count_may_by_hour()"
      ],
      "metadata": {
        "id": "hGOsFuP4JfwK"
      },
      "execution_count": null,
      "outputs": []
    }
  ]
}